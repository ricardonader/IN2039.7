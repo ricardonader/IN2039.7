{
 "cells": [
  {
   "cell_type": "markdown",
   "id": "b06f4fe0",
   "metadata": {},
   "source": [
    "# Evaluación Final\n",
    "## Visualización de datos para la toma de decisiones\n",
    "\n",
    "### Ricardo Nader Estrada\n",
    "### A00827708"
   ]
  },
  {
   "cell_type": "markdown",
   "id": "85eb30ce",
   "metadata": {},
   "source": [
    "### Introducción\n",
    "\n",
    "El set de datos que se utilizó en esta exploración fue recopilado del UCI Machine Learning Repository (https://archive.ics.uci.edu/ml/index.php). \n",
    "Este set contiene información acerca de el desempeño escolar de estudiantes de dos colegios de Portugal, así como de información acerca de la vida personal de los estudiantes. Contiene atributos variados desde la vida familiar hasta vida social. \n",
    "En esta investigación se planea analizar las variables y encontrar las correlaciones que tienen con las notas finales de los estudiantes, asi como comparar el impacto que tienen."
   ]
  },
  {
   "cell_type": "markdown",
   "id": "d414994b",
   "metadata": {},
   "source": [
    "### Estudio de las variables\n",
    "El set contiene muchas variables que se podrían considerar como \"importantes\" al estudiar las razones para un bajo rendimiento academico. Sin embargo, para este estudio se han seleccionado algunas que se consideró como más interesantes para explorar. Estas son las siguientes:"
   ]
  },
  {
   "cell_type": "markdown",
   "id": "dd23ccd0",
   "metadata": {},
   "source": [
    "'sex' = student's sex (binary: \"F\" - female or \"M\" - male). \n",
    "Además de encontrar la relación que tiene el sexo de los estudiantes con su desempeño, se pretende evaluar el nivel de afectación que esta variable tiene en relación con las otras. Es decir, encontrar si es que el sexo tiene algo que ver con cómo manejan los estudiantes las diferentes situaciones familiares, personales, etc."
   ]
  },
  {
   "cell_type": "markdown",
   "id": "4e892869",
   "metadata": {},
   "source": [
    "'famsize' - family size (binary: \"LE3\" - less or equal to 3 or \"GT3\" - greater than 3). Tamaño de la familia.\n",
    "\n",
    "Pstatus - parent's cohabitation status (binary: \"T\" - living together or \"A\" - apart). Padres juntos o separados. Se puede encontrar correlacion con las calificaciones y con la vida social.\n",
    "\n",
    "studytime - weekly study time (numeric: 1 - <2 hours, 2 - 2 to 5 hours, 3 - 5 to 10 hours, or 4 - >10 hours)\n",
    "\n",
    "goout - going out with friends (numeric: from 1 - very low to 5 - very high)\n",
    "\n",
    "Walc - weekend alcohol consumption (numeric: from 1 - very low to 5 - very high)\n",
    "\n",
    "absences - number of school absences (numeric: from 0 to 93)\n",
    "\n",
    "G3 - final grade (numeric: from 0 to 20, output target)"
   ]
  },
  {
   "cell_type": "markdown",
   "id": "679dc6fa",
   "metadata": {},
   "source": [
    "### Preguntas de Exploración\n",
    "\n",
    " -  ¿Como se comparan social y academicamente los hombres y mujeres?\n",
    " -  ¿Existe correlación entre la actividad social de los estudiantes y el consumo de alcohol con las calificaciones?\n",
    " -  ¿En que aspectos se deberian concentrar los colegios para ayudar a sus estudiantes con el desempeño académico?"
   ]
  },
  {
   "cell_type": "markdown",
   "id": "11acc867",
   "metadata": {},
   "source": [
    "### Stakeholders\n",
    "\n",
    "Principalmente, esta información es de alta relevancia para el departamento directivo y pedagógico de los colegios. Podría ayudar en la toma de decisiones y en el apoyo que brinden a los estudiantes para mejorar el desempeño academico. También puede ser de relevancia para los padres que esten interesados en ayudar a sus hijos. Finalmente, departamentos psicológicos pueden utilizar esta información para el estudio a fondo de las razones de estas correlaciones."
   ]
  },
  {
   "cell_type": "markdown",
   "id": "5e68dce5",
   "metadata": {},
   "source": [
    "### Exploración"
   ]
  },
  {
   "cell_type": "code",
   "execution_count": 1,
   "id": "1cabef1f",
   "metadata": {},
   "outputs": [],
   "source": [
    "import pandas as pd\n",
    "import seaborn as sns\n",
    "import matplotlib.pyplot as plt"
   ]
  },
  {
   "cell_type": "code",
   "execution_count": 2,
   "id": "1b5cbbfd",
   "metadata": {},
   "outputs": [],
   "source": [
    "df = pd.read_csv('studentperformance.csv')"
   ]
  },
  {
   "cell_type": "code",
   "execution_count": 3,
   "id": "372f45c4",
   "metadata": {},
   "outputs": [
    {
     "data": {
      "text/plain": [
       "Index(['school', 'sex', 'age', 'address', 'famsize', 'Pstatus', 'Medu', 'Fedu',\n",
       "       'Mjob', 'Fjob', 'reason', 'guardian', 'traveltime', 'studytime',\n",
       "       'failures', 'schoolsup', 'famsup', 'paid', 'activities', 'nursery',\n",
       "       'higher', 'internet', 'romantic', 'famrel', 'freetime', 'goout', 'Dalc',\n",
       "       'Walc', 'health', 'absences', 'G1', 'G2', 'G3'],\n",
       "      dtype='object')"
      ]
     },
     "execution_count": 3,
     "metadata": {},
     "output_type": "execute_result"
    }
   ],
   "source": [
    "df.columns"
   ]
  },
  {
   "cell_type": "code",
   "execution_count": 4,
   "id": "6653ff3f",
   "metadata": {},
   "outputs": [],
   "source": [
    "df.drop(['school','age', 'address', 'Medu', 'Fedu',\n",
    "       'Mjob', 'Fjob', 'reason', 'guardian', 'traveltime', 'failures', 'schoolsup', 'famsup', 'paid', 'activities', 'nursery',\n",
    "       'higher', 'internet', 'romantic', 'famrel', 'freetime', 'Dalc', 'health', 'G1', 'G2'],\n",
    "       axis = 1,\n",
    "        inplace = True\n",
    "       )"
   ]
  },
  {
   "cell_type": "code",
   "execution_count": 5,
   "id": "ab5439fa",
   "metadata": {},
   "outputs": [
    {
     "data": {
      "text/html": [
       "<div>\n",
       "<style scoped>\n",
       "    .dataframe tbody tr th:only-of-type {\n",
       "        vertical-align: middle;\n",
       "    }\n",
       "\n",
       "    .dataframe tbody tr th {\n",
       "        vertical-align: top;\n",
       "    }\n",
       "\n",
       "    .dataframe thead th {\n",
       "        text-align: right;\n",
       "    }\n",
       "</style>\n",
       "<table border=\"1\" class=\"dataframe\">\n",
       "  <thead>\n",
       "    <tr style=\"text-align: right;\">\n",
       "      <th></th>\n",
       "      <th>sex</th>\n",
       "      <th>famsize</th>\n",
       "      <th>Pstatus</th>\n",
       "      <th>studytime</th>\n",
       "      <th>goout</th>\n",
       "      <th>Walc</th>\n",
       "      <th>absences</th>\n",
       "      <th>G3</th>\n",
       "    </tr>\n",
       "  </thead>\n",
       "  <tbody>\n",
       "    <tr>\n",
       "      <th>0</th>\n",
       "      <td>F</td>\n",
       "      <td>GT3</td>\n",
       "      <td>A</td>\n",
       "      <td>2</td>\n",
       "      <td>4</td>\n",
       "      <td>1</td>\n",
       "      <td>4</td>\n",
       "      <td>11</td>\n",
       "    </tr>\n",
       "    <tr>\n",
       "      <th>1</th>\n",
       "      <td>F</td>\n",
       "      <td>GT3</td>\n",
       "      <td>T</td>\n",
       "      <td>2</td>\n",
       "      <td>3</td>\n",
       "      <td>1</td>\n",
       "      <td>2</td>\n",
       "      <td>11</td>\n",
       "    </tr>\n",
       "    <tr>\n",
       "      <th>2</th>\n",
       "      <td>F</td>\n",
       "      <td>LE3</td>\n",
       "      <td>T</td>\n",
       "      <td>2</td>\n",
       "      <td>2</td>\n",
       "      <td>3</td>\n",
       "      <td>6</td>\n",
       "      <td>12</td>\n",
       "    </tr>\n",
       "    <tr>\n",
       "      <th>3</th>\n",
       "      <td>F</td>\n",
       "      <td>GT3</td>\n",
       "      <td>T</td>\n",
       "      <td>3</td>\n",
       "      <td>2</td>\n",
       "      <td>1</td>\n",
       "      <td>0</td>\n",
       "      <td>14</td>\n",
       "    </tr>\n",
       "    <tr>\n",
       "      <th>4</th>\n",
       "      <td>F</td>\n",
       "      <td>GT3</td>\n",
       "      <td>T</td>\n",
       "      <td>2</td>\n",
       "      <td>2</td>\n",
       "      <td>2</td>\n",
       "      <td>0</td>\n",
       "      <td>13</td>\n",
       "    </tr>\n",
       "    <tr>\n",
       "      <th>...</th>\n",
       "      <td>...</td>\n",
       "      <td>...</td>\n",
       "      <td>...</td>\n",
       "      <td>...</td>\n",
       "      <td>...</td>\n",
       "      <td>...</td>\n",
       "      <td>...</td>\n",
       "      <td>...</td>\n",
       "    </tr>\n",
       "    <tr>\n",
       "      <th>644</th>\n",
       "      <td>F</td>\n",
       "      <td>GT3</td>\n",
       "      <td>T</td>\n",
       "      <td>3</td>\n",
       "      <td>2</td>\n",
       "      <td>2</td>\n",
       "      <td>4</td>\n",
       "      <td>10</td>\n",
       "    </tr>\n",
       "    <tr>\n",
       "      <th>645</th>\n",
       "      <td>F</td>\n",
       "      <td>LE3</td>\n",
       "      <td>T</td>\n",
       "      <td>2</td>\n",
       "      <td>4</td>\n",
       "      <td>1</td>\n",
       "      <td>4</td>\n",
       "      <td>16</td>\n",
       "    </tr>\n",
       "    <tr>\n",
       "      <th>646</th>\n",
       "      <td>F</td>\n",
       "      <td>GT3</td>\n",
       "      <td>T</td>\n",
       "      <td>2</td>\n",
       "      <td>1</td>\n",
       "      <td>1</td>\n",
       "      <td>6</td>\n",
       "      <td>9</td>\n",
       "    </tr>\n",
       "    <tr>\n",
       "      <th>647</th>\n",
       "      <td>M</td>\n",
       "      <td>LE3</td>\n",
       "      <td>T</td>\n",
       "      <td>1</td>\n",
       "      <td>5</td>\n",
       "      <td>4</td>\n",
       "      <td>6</td>\n",
       "      <td>10</td>\n",
       "    </tr>\n",
       "    <tr>\n",
       "      <th>648</th>\n",
       "      <td>M</td>\n",
       "      <td>LE3</td>\n",
       "      <td>T</td>\n",
       "      <td>1</td>\n",
       "      <td>1</td>\n",
       "      <td>4</td>\n",
       "      <td>4</td>\n",
       "      <td>11</td>\n",
       "    </tr>\n",
       "  </tbody>\n",
       "</table>\n",
       "<p>649 rows × 8 columns</p>\n",
       "</div>"
      ],
      "text/plain": [
       "    sex famsize Pstatus  studytime  goout  Walc  absences  G3\n",
       "0     F     GT3       A          2      4     1         4  11\n",
       "1     F     GT3       T          2      3     1         2  11\n",
       "2     F     LE3       T          2      2     3         6  12\n",
       "3     F     GT3       T          3      2     1         0  14\n",
       "4     F     GT3       T          2      2     2         0  13\n",
       "..   ..     ...     ...        ...    ...   ...       ...  ..\n",
       "644   F     GT3       T          3      2     2         4  10\n",
       "645   F     LE3       T          2      4     1         4  16\n",
       "646   F     GT3       T          2      1     1         6   9\n",
       "647   M     LE3       T          1      5     4         6  10\n",
       "648   M     LE3       T          1      1     4         4  11\n",
       "\n",
       "[649 rows x 8 columns]"
      ]
     },
     "execution_count": 5,
     "metadata": {},
     "output_type": "execute_result"
    }
   ],
   "source": [
    "df"
   ]
  },
  {
   "cell_type": "markdown",
   "id": "83610630",
   "metadata": {},
   "source": [
    "### Data Overview"
   ]
  },
  {
   "cell_type": "code",
   "execution_count": 6,
   "id": "c19f9f12",
   "metadata": {},
   "outputs": [
    {
     "data": {
      "text/plain": [
       "<seaborn.axisgrid.FacetGrid at 0x7f00e4766b10>"
      ]
     },
     "execution_count": 6,
     "metadata": {},
     "output_type": "execute_result"
    },
    {
     "data": {
      "image/png": "[encoded data removed]",
      "text/plain": [
       "<Figure size 360x360 with 1 Axes>"
      ]
     },
     "metadata": {
      "needs_background": "light"
     },
     "output_type": "display_data"
    },
    {
     "data": {
      "image/png": "[encoded data removed]",
      "text/plain": [
       "<Figure size 360x360 with 1 Axes>"
      ]
     },
     "metadata": {
      "needs_background": "light"
     },
     "output_type": "display_data"
    },
    {
     "data": {
      "image/png": "[encoded data removed]",
      "text/plain": [
       "<Figure size 360x360 with 1 Axes>"
      ]
     },
     "metadata": {
      "needs_background": "light"
     },
     "output_type": "display_data"
    }
   ],
   "source": [
    "sns.catplot(data=df,\n",
    "           x='sex',\n",
    "           y=None,\n",
    "           kind='count')\n",
    "\n",
    "sns.catplot(data=df,\n",
    "           x='famsize',\n",
    "           y=None,\n",
    "           kind='count')\n",
    "\n",
    "sns.catplot(data=df,\n",
    "           x='Pstatus',\n",
    "           y=None,\n",
    "           kind='count')"
   ]
  },
  {
   "cell_type": "code",
   "execution_count": 7,
   "id": "6efb9f23",
   "metadata": {},
   "outputs": [
    {
     "data": {
      "image/png": "[encoded data removed]",
      "text/plain": [
       "<Figure size 432x288 with 2 Axes>"
      ]
     },
     "metadata": {
      "needs_background": "light"
     },
     "output_type": "display_data"
    }
   ],
   "source": [
    "fig = plt.figure()\n",
    "\n",
    "ax1=fig.add_subplot(1,2,1) \n",
    "sns.boxplot(data=df.loc[df['sex']=='F', 'G3'])\n",
    "\n",
    "ax2=fig.add_subplot(1,2,2)\n",
    "sns.boxplot(data=df.loc[df['sex']=='M', ['G3']])\n",
    "\n",
    "ax1.title.set_text('Calificaciones Mujeres')\n",
    "ax2.title.set_text('Calificaciones Hombres')\n",
    "plt.show()"
   ]
  },
  {
   "cell_type": "markdown",
   "id": "dae34185",
   "metadata": {},
   "source": [
    "Como se puede observar, la media de las mujeres se encuentra mas arriba que la de los hombres, osea que el promedio de calificaciones de mujeres es mejor. Además, los hombres tienen datos atípicos dentr de las mejores calificaciones, mientras que en las mujeres las mejores calificaciones si se encuentran dentro del cuartil mayor."
   ]
  },
  {
   "cell_type": "code",
   "execution_count": 8,
   "id": "f0de6a4f",
   "metadata": {},
   "outputs": [
    {
     "data": {
      "text/html": [
       "<div>\n",
       "<style scoped>\n",
       "    .dataframe tbody tr th:only-of-type {\n",
       "        vertical-align: middle;\n",
       "    }\n",
       "\n",
       "    .dataframe tbody tr th {\n",
       "        vertical-align: top;\n",
       "    }\n",
       "\n",
       "    .dataframe thead th {\n",
       "        text-align: right;\n",
       "    }\n",
       "</style>\n",
       "<table border=\"1\" class=\"dataframe\">\n",
       "  <thead>\n",
       "    <tr style=\"text-align: right;\">\n",
       "      <th></th>\n",
       "      <th>Walc</th>\n",
       "      <th>absences</th>\n",
       "      <th>goout</th>\n",
       "      <th>studytime</th>\n",
       "    </tr>\n",
       "    <tr>\n",
       "      <th>sex</th>\n",
       "      <th></th>\n",
       "      <th></th>\n",
       "      <th></th>\n",
       "      <th></th>\n",
       "    </tr>\n",
       "  </thead>\n",
       "  <tbody>\n",
       "    <tr>\n",
       "      <th>F</th>\n",
       "      <td>1.937337</td>\n",
       "      <td>3.577023</td>\n",
       "      <td>3.127937</td>\n",
       "      <td>2.073107</td>\n",
       "    </tr>\n",
       "    <tr>\n",
       "      <th>M</th>\n",
       "      <td>2.774436</td>\n",
       "      <td>3.778195</td>\n",
       "      <td>3.266917</td>\n",
       "      <td>1.725564</td>\n",
       "    </tr>\n",
       "  </tbody>\n",
       "</table>\n",
       "</div>"
      ],
      "text/plain": [
       "         Walc  absences     goout  studytime\n",
       "sex                                         \n",
       "F    1.937337  3.577023  3.127937   2.073107\n",
       "M    2.774436  3.778195  3.266917   1.725564"
      ]
     },
     "execution_count": 8,
     "metadata": {},
     "output_type": "execute_result"
    }
   ],
   "source": [
    "pd.pivot_table(df,\n",
    "              index=['sex'],\n",
    "              values=['studytime', 'absences', 'Walc', 'goout'],\n",
    "              aggfunc='mean')"
   ]
  },
  {
   "cell_type": "code",
   "execution_count": 9,
   "id": "ba1ad1ba",
   "metadata": {},
   "outputs": [
    {
     "data": {
      "text/plain": [
       "<seaborn.axisgrid.FacetGrid at 0x7f00e346abd0>"
      ]
     },
     "execution_count": 9,
     "metadata": {},
     "output_type": "execute_result"
    },
    {
     "data": {
      "image/png": "[encoded data removed]",
      "text/plain": [
       "<Figure size 360x360 with 1 Axes>"
      ]
     },
     "metadata": {
      "needs_background": "light"
     },
     "output_type": "display_data"
    }
   ],
   "source": [
    "sns.catplot(data=df,\n",
    "           x='sex',\n",
    "           y='absences',\n",
    "           )"
   ]
  },
  {
   "cell_type": "code",
   "execution_count": 10,
   "id": "51b698a4",
   "metadata": {},
   "outputs": [
    {
     "data": {
      "image/png": "[encoded data removed]",
      "text/plain": [
       "<Figure size 432x288 with 2 Axes>"
      ]
     },
     "metadata": {
      "needs_background": "light"
     },
     "output_type": "display_data"
    }
   ],
   "source": [
    "fig = plt.figure()\n",
    "\n",
    "ax1=fig.add_subplot(1,2,1) \n",
    "df['studytime'].plot(kind='hist')\n",
    "\n",
    "ax2=fig.add_subplot(1,2,2)\n",
    "df['goout'].plot(kind='hist')\n",
    "\n",
    "ax1.title.set_text('Tiempo de Estudio')\n",
    "ax2.title.set_text('Salir con amigos')\n",
    "plt.show()"
   ]
  },
  {
   "cell_type": "markdown",
   "id": "d8e7746d",
   "metadata": {},
   "source": [
    "### Correlaciones"
   ]
  },
  {
   "cell_type": "markdown",
   "id": "469125fa",
   "metadata": {},
   "source": [
    "#### Ausencias"
   ]
  },
  {
   "cell_type": "code",
   "execution_count": 11,
   "id": "d20cc628",
   "metadata": {},
   "outputs": [
    {
     "data": {
      "text/plain": [
       "<seaborn.axisgrid.FacetGrid at 0x7f00e098b050>"
      ]
     },
     "execution_count": 11,
     "metadata": {},
     "output_type": "execute_result"
    },
    {
     "data": {
      "image/png": "[encoded data removed]",
      "text/plain": [
       "<Figure size 404.625x360 with 1 Axes>"
      ]
     },
     "metadata": {
      "needs_background": "light"
     },
     "output_type": "display_data"
    }
   ],
   "source": [
    " \n",
    "sns.lmplot(\n",
    "    x= 'absences',\n",
    "    y= 'G3',\n",
    "    data = df,\n",
    "    fit_reg = True,\n",
    "    hue= 'sex'\n",
    ")\n"
   ]
  },
  {
   "cell_type": "code",
   "execution_count": 12,
   "id": "5257566e",
   "metadata": {},
   "outputs": [
    {
     "data": {
      "text/html": [
       "<table class=\"simpletable\">\n",
       "<caption>OLS Regression Results</caption>\n",
       "<tr>\n",
       "  <th>Dep. Variable:</th>            <td>Y</td>        <th>  R-squared:         </th> <td>   0.008</td>\n",
       "</tr>\n",
       "<tr>\n",
       "  <th>Model:</th>                   <td>OLS</td>       <th>  Adj. R-squared:    </th> <td>   0.007</td>\n",
       "</tr>\n",
       "<tr>\n",
       "  <th>Method:</th>             <td>Least Squares</td>  <th>  F-statistic:       </th> <td>   5.448</td>\n",
       "</tr>\n",
       "<tr>\n",
       "  <th>Date:</th>             <td>Fri, 10 Sep 2021</td> <th>  Prob (F-statistic):</th>  <td>0.0199</td> \n",
       "</tr>\n",
       "<tr>\n",
       "  <th>Time:</th>                 <td>06:23:34</td>     <th>  Log-Likelihood:    </th> <td> -1678.7</td>\n",
       "</tr>\n",
       "<tr>\n",
       "  <th>No. Observations:</th>      <td>   649</td>      <th>  AIC:               </th> <td>   3361.</td>\n",
       "</tr>\n",
       "<tr>\n",
       "  <th>Df Residuals:</th>          <td>   647</td>      <th>  BIC:               </th> <td>   3370.</td>\n",
       "</tr>\n",
       "<tr>\n",
       "  <th>Df Model:</th>              <td>     1</td>      <th>                     </th>     <td> </td>   \n",
       "</tr>\n",
       "<tr>\n",
       "  <th>Covariance Type:</th>      <td>nonrobust</td>    <th>                     </th>     <td> </td>   \n",
       "</tr>\n",
       "</table>\n",
       "<table class=\"simpletable\">\n",
       "<tr>\n",
       "      <td></td>         <th>coef</th>     <th>std err</th>      <th>t</th>      <th>P>|t|</th>  <th>[0.025</th>    <th>0.975]</th>  \n",
       "</tr>\n",
       "<tr>\n",
       "  <th>Intercept</th> <td>   12.1388</td> <td>    0.161</td> <td>   75.399</td> <td> 0.000</td> <td>   11.823</td> <td>   12.455</td>\n",
       "</tr>\n",
       "<tr>\n",
       "  <th>X</th>         <td>   -0.0636</td> <td>    0.027</td> <td>   -2.334</td> <td> 0.020</td> <td>   -0.117</td> <td>   -0.010</td>\n",
       "</tr>\n",
       "</table>\n",
       "<table class=\"simpletable\">\n",
       "<tr>\n",
       "  <th>Omnibus:</th>       <td>130.386</td> <th>  Durbin-Watson:     </th> <td>   1.606</td>\n",
       "</tr>\n",
       "<tr>\n",
       "  <th>Prob(Omnibus):</th> <td> 0.000</td>  <th>  Jarque-Bera (JB):  </th> <td> 362.149</td>\n",
       "</tr>\n",
       "<tr>\n",
       "  <th>Skew:</th>          <td>-0.993</td>  <th>  Prob(JB):          </th> <td>2.29e-79</td>\n",
       "</tr>\n",
       "<tr>\n",
       "  <th>Kurtosis:</th>      <td> 6.074</td>  <th>  Cond. No.          </th> <td>    7.61</td>\n",
       "</tr>\n",
       "</table><br/><br/>Warnings:<br/>[1] Standard Errors assume that the covariance matrix of the errors is correctly specified."
      ],
      "text/plain": [
       "<class 'statsmodels.iolib.summary.Summary'>\n",
       "\"\"\"\n",
       "                            OLS Regression Results                            \n",
       "==============================================================================\n",
       "Dep. Variable:                      Y   R-squared:                       0.008\n",
       "Model:                            OLS   Adj. R-squared:                  0.007\n",
       "Method:                 Least Squares   F-statistic:                     5.448\n",
       "Date:                Fri, 10 Sep 2021   Prob (F-statistic):             0.0199\n",
       "Time:                        06:23:34   Log-Likelihood:                -1678.7\n",
       "No. Observations:                 649   AIC:                             3361.\n",
       "Df Residuals:                     647   BIC:                             3370.\n",
       "Df Model:                           1                                         \n",
       "Covariance Type:            nonrobust                                         \n",
       "==============================================================================\n",
       "                 coef    std err          t      P>|t|      [0.025      0.975]\n",
       "------------------------------------------------------------------------------\n",
       "Intercept     12.1388      0.161     75.399      0.000      11.823      12.455\n",
       "X             -0.0636      0.027     -2.334      0.020      -0.117      -0.010\n",
       "==============================================================================\n",
       "Omnibus:                      130.386   Durbin-Watson:                   1.606\n",
       "Prob(Omnibus):                  0.000   Jarque-Bera (JB):              362.149\n",
       "Skew:                          -0.993   Prob(JB):                     2.29e-79\n",
       "Kurtosis:                       6.074   Cond. No.                         7.61\n",
       "==============================================================================\n",
       "\n",
       "Warnings:\n",
       "[1] Standard Errors assume that the covariance matrix of the errors is correctly specified.\n",
       "\"\"\""
      ]
     },
     "execution_count": 12,
     "metadata": {},
     "output_type": "execute_result"
    }
   ],
   "source": [
    "X=df[\"absences\"].values \n",
    "Y=df['G3'].values \n",
    "import statsmodels.api as sm \n",
    "\n",
    "model=sm.OLS.from_formula(\"Y~X\", \n",
    "                         data=df)\n",
    "result=model.fit() \n",
    "result.summary() "
   ]
  },
  {
   "cell_type": "markdown",
   "id": "a9e3db76",
   "metadata": {},
   "source": [
    "#### Tiempo de estudio"
   ]
  },
  {
   "cell_type": "code",
   "execution_count": 13,
   "id": "be89f493",
   "metadata": {},
   "outputs": [
    {
     "data": {
      "text/html": [
       "<div>\n",
       "<style scoped>\n",
       "    .dataframe tbody tr th:only-of-type {\n",
       "        vertical-align: middle;\n",
       "    }\n",
       "\n",
       "    .dataframe tbody tr th {\n",
       "        vertical-align: top;\n",
       "    }\n",
       "\n",
       "    .dataframe thead th {\n",
       "        text-align: right;\n",
       "    }\n",
       "</style>\n",
       "<table border=\"1\" class=\"dataframe\">\n",
       "  <thead>\n",
       "    <tr style=\"text-align: right;\">\n",
       "      <th></th>\n",
       "      <th>G3</th>\n",
       "    </tr>\n",
       "    <tr>\n",
       "      <th>studytime</th>\n",
       "      <th></th>\n",
       "    </tr>\n",
       "  </thead>\n",
       "  <tbody>\n",
       "    <tr>\n",
       "      <th>1</th>\n",
       "      <td>10.844340</td>\n",
       "    </tr>\n",
       "    <tr>\n",
       "      <th>2</th>\n",
       "      <td>12.091803</td>\n",
       "    </tr>\n",
       "    <tr>\n",
       "      <th>3</th>\n",
       "      <td>13.226804</td>\n",
       "    </tr>\n",
       "    <tr>\n",
       "      <th>4</th>\n",
       "      <td>13.057143</td>\n",
       "    </tr>\n",
       "  </tbody>\n",
       "</table>\n",
       "</div>"
      ],
      "text/plain": [
       "                  G3\n",
       "studytime           \n",
       "1          10.844340\n",
       "2          12.091803\n",
       "3          13.226804\n",
       "4          13.057143"
      ]
     },
     "execution_count": 13,
     "metadata": {},
     "output_type": "execute_result"
    }
   ],
   "source": [
    "pd.pivot_table(df,\n",
    "              index=['studytime'],\n",
    "              values=['G3'],\n",
    "              aggfunc='mean')"
   ]
  },
  {
   "cell_type": "code",
   "execution_count": 14,
   "id": "9ff912cb",
   "metadata": {},
   "outputs": [
    {
     "data": {
      "text/html": [
       "<table class=\"simpletable\">\n",
       "<caption>OLS Regression Results</caption>\n",
       "<tr>\n",
       "  <th>Dep. Variable:</th>            <td>Y</td>        <th>  R-squared:         </th> <td>   0.062</td>\n",
       "</tr>\n",
       "<tr>\n",
       "  <th>Model:</th>                   <td>OLS</td>       <th>  Adj. R-squared:    </th> <td>   0.061</td>\n",
       "</tr>\n",
       "<tr>\n",
       "  <th>Method:</th>             <td>Least Squares</td>  <th>  F-statistic:       </th> <td>   43.06</td>\n",
       "</tr>\n",
       "<tr>\n",
       "  <th>Date:</th>             <td>Fri, 10 Sep 2021</td> <th>  Prob (F-statistic):</th> <td>1.09e-10</td>\n",
       "</tr>\n",
       "<tr>\n",
       "  <th>Time:</th>                 <td>06:23:34</td>     <th>  Log-Likelihood:    </th> <td> -1660.6</td>\n",
       "</tr>\n",
       "<tr>\n",
       "  <th>No. Observations:</th>      <td>   649</td>      <th>  AIC:               </th> <td>   3325.</td>\n",
       "</tr>\n",
       "<tr>\n",
       "  <th>Df Residuals:</th>          <td>   647</td>      <th>  BIC:               </th> <td>   3334.</td>\n",
       "</tr>\n",
       "<tr>\n",
       "  <th>Df Model:</th>              <td>     1</td>      <th>                     </th>     <td> </td>   \n",
       "</tr>\n",
       "<tr>\n",
       "  <th>Covariance Type:</th>      <td>nonrobust</td>    <th>                     </th>     <td> </td>   \n",
       "</tr>\n",
       "</table>\n",
       "<table class=\"simpletable\">\n",
       "<tr>\n",
       "      <td></td>         <th>coef</th>     <th>std err</th>      <th>t</th>      <th>P>|t|</th>  <th>[0.025</th>    <th>0.975]</th>  \n",
       "</tr>\n",
       "<tr>\n",
       "  <th>Intercept</th> <td>   10.0278</td> <td>    0.312</td> <td>   32.191</td> <td> 0.000</td> <td>    9.416</td> <td>   10.639</td>\n",
       "</tr>\n",
       "<tr>\n",
       "  <th>X</th>         <td>    0.9728</td> <td>    0.148</td> <td>    6.562</td> <td> 0.000</td> <td>    0.682</td> <td>    1.264</td>\n",
       "</tr>\n",
       "</table>\n",
       "<table class=\"simpletable\">\n",
       "<tr>\n",
       "  <th>Omnibus:</th>       <td>116.648</td> <th>  Durbin-Watson:     </th> <td>   1.672</td>\n",
       "</tr>\n",
       "<tr>\n",
       "  <th>Prob(Omnibus):</th> <td> 0.000</td>  <th>  Jarque-Bera (JB):  </th> <td> 290.561</td>\n",
       "</tr>\n",
       "<tr>\n",
       "  <th>Skew:</th>          <td>-0.929</td>  <th>  Prob(JB):          </th> <td>8.05e-64</td>\n",
       "</tr>\n",
       "<tr>\n",
       "  <th>Kurtosis:</th>      <td> 5.701</td>  <th>  Cond. No.          </th> <td>    6.38</td>\n",
       "</tr>\n",
       "</table><br/><br/>Warnings:<br/>[1] Standard Errors assume that the covariance matrix of the errors is correctly specified."
      ],
      "text/plain": [
       "<class 'statsmodels.iolib.summary.Summary'>\n",
       "\"\"\"\n",
       "                            OLS Regression Results                            \n",
       "==============================================================================\n",
       "Dep. Variable:                      Y   R-squared:                       0.062\n",
       "Model:                            OLS   Adj. R-squared:                  0.061\n",
       "Method:                 Least Squares   F-statistic:                     43.06\n",
       "Date:                Fri, 10 Sep 2021   Prob (F-statistic):           1.09e-10\n",
       "Time:                        06:23:34   Log-Likelihood:                -1660.6\n",
       "No. Observations:                 649   AIC:                             3325.\n",
       "Df Residuals:                     647   BIC:                             3334.\n",
       "Df Model:                           1                                         \n",
       "Covariance Type:            nonrobust                                         \n",
       "==============================================================================\n",
       "                 coef    std err          t      P>|t|      [0.025      0.975]\n",
       "------------------------------------------------------------------------------\n",
       "Intercept     10.0278      0.312     32.191      0.000       9.416      10.639\n",
       "X              0.9728      0.148      6.562      0.000       0.682       1.264\n",
       "==============================================================================\n",
       "Omnibus:                      116.648   Durbin-Watson:                   1.672\n",
       "Prob(Omnibus):                  0.000   Jarque-Bera (JB):              290.561\n",
       "Skew:                          -0.929   Prob(JB):                     8.05e-64\n",
       "Kurtosis:                       5.701   Cond. No.                         6.38\n",
       "==============================================================================\n",
       "\n",
       "Warnings:\n",
       "[1] Standard Errors assume that the covariance matrix of the errors is correctly specified.\n",
       "\"\"\""
      ]
     },
     "execution_count": 14,
     "metadata": {},
     "output_type": "execute_result"
    }
   ],
   "source": [
    "X=df[\"studytime\"].values \n",
    "Y=df['G3'].values \n",
    "import statsmodels.api as sm \n",
    "\n",
    "model=sm.OLS.from_formula(\"Y~X\", \n",
    "                         data=df)\n",
    "result=model.fit() \n",
    "result.summary() "
   ]
  },
  {
   "cell_type": "markdown",
   "id": "3d0c2597",
   "metadata": {},
   "source": [
    "#### Consumo de Alcohol"
   ]
  },
  {
   "cell_type": "code",
   "execution_count": 15,
   "id": "16f108c7",
   "metadata": {},
   "outputs": [
    {
     "data": {
      "text/plain": [
       "<seaborn.axisgrid.FacetGrid at 0x7f00e094d3d0>"
      ]
     },
     "execution_count": 15,
     "metadata": {},
     "output_type": "execute_result"
    },
    {
     "data": {
      "image/png": "[encoded data removed]",
      "text/plain": [
       "<Figure size 404.625x360 with 1 Axes>"
      ]
     },
     "metadata": {
      "needs_background": "light"
     },
     "output_type": "display_data"
    }
   ],
   "source": [
    "sns.lmplot(\n",
    "    x= 'Walc',\n",
    "    y= 'G3',\n",
    "    data = df,\n",
    "    fit_reg = True,\n",
    "    hue= 'sex'\n",
    ")"
   ]
  },
  {
   "cell_type": "code",
   "execution_count": 16,
   "id": "da6a44da",
   "metadata": {},
   "outputs": [
    {
     "data": {
      "text/plain": [
       "<seaborn.axisgrid.FacetGrid at 0x7f00dbd17f50>"
      ]
     },
     "execution_count": 16,
     "metadata": {},
     "output_type": "execute_result"
    },
    {
     "data": {
      "image/png": "[encoded data removed]",
      "text/plain": [
       "<Figure size 360x360 with 1 Axes>"
      ]
     },
     "metadata": {
      "needs_background": "light"
     },
     "output_type": "display_data"
    }
   ],
   "source": [
    "isM = df['sex']=='M'\n",
    "\n",
    "dfM = df[isM]\n",
    "\n",
    "sns.lmplot(\n",
    "    x= 'Walc',\n",
    "    y= 'G3',\n",
    "    data = dfM,\n",
    "    fit_reg = True,\n",
    ")"
   ]
  },
  {
   "cell_type": "code",
   "execution_count": 17,
   "id": "6c077ca6",
   "metadata": {},
   "outputs": [
    {
     "data": {
      "text/html": [
       "<table class=\"simpletable\">\n",
       "<caption>OLS Regression Results</caption>\n",
       "<tr>\n",
       "  <th>Dep. Variable:</th>            <td>Y</td>        <th>  R-squared:         </th> <td>   0.089</td>\n",
       "</tr>\n",
       "<tr>\n",
       "  <th>Model:</th>                   <td>OLS</td>       <th>  Adj. R-squared:    </th> <td>   0.086</td>\n",
       "</tr>\n",
       "<tr>\n",
       "  <th>Method:</th>             <td>Least Squares</td>  <th>  F-statistic:       </th> <td>   25.82</td>\n",
       "</tr>\n",
       "<tr>\n",
       "  <th>Date:</th>             <td>Fri, 10 Sep 2021</td> <th>  Prob (F-statistic):</th> <td>7.09e-07</td>\n",
       "</tr>\n",
       "<tr>\n",
       "  <th>Time:</th>                 <td>06:23:35</td>     <th>  Log-Likelihood:    </th> <td> -683.77</td>\n",
       "</tr>\n",
       "<tr>\n",
       "  <th>No. Observations:</th>      <td>   266</td>      <th>  AIC:               </th> <td>   1372.</td>\n",
       "</tr>\n",
       "<tr>\n",
       "  <th>Df Residuals:</th>          <td>   264</td>      <th>  BIC:               </th> <td>   1379.</td>\n",
       "</tr>\n",
       "<tr>\n",
       "  <th>Df Model:</th>              <td>     1</td>      <th>                     </th>     <td> </td>   \n",
       "</tr>\n",
       "<tr>\n",
       "  <th>Covariance Type:</th>      <td>nonrobust</td>    <th>                     </th>     <td> </td>   \n",
       "</tr>\n",
       "</table>\n",
       "<table class=\"simpletable\">\n",
       "<tr>\n",
       "      <td></td>         <th>coef</th>     <th>std err</th>      <th>t</th>      <th>P>|t|</th>  <th>[0.025</th>    <th>0.975]</th>  \n",
       "</tr>\n",
       "<tr>\n",
       "  <th>Intercept</th> <td>   13.3498</td> <td>    0.429</td> <td>   31.104</td> <td> 0.000</td> <td>   12.505</td> <td>   14.195</td>\n",
       "</tr>\n",
       "<tr>\n",
       "  <th>X</th>         <td>   -0.7006</td> <td>    0.138</td> <td>   -5.082</td> <td> 0.000</td> <td>   -0.972</td> <td>   -0.429</td>\n",
       "</tr>\n",
       "</table>\n",
       "<table class=\"simpletable\">\n",
       "<tr>\n",
       "  <th>Omnibus:</th>       <td>64.566</td> <th>  Durbin-Watson:     </th> <td>   1.717</td>\n",
       "</tr>\n",
       "<tr>\n",
       "  <th>Prob(Omnibus):</th> <td> 0.000</td> <th>  Jarque-Bera (JB):  </th> <td> 174.620</td>\n",
       "</tr>\n",
       "<tr>\n",
       "  <th>Skew:</th>          <td>-1.087</td> <th>  Prob(JB):          </th> <td>1.21e-38</td>\n",
       "</tr>\n",
       "<tr>\n",
       "  <th>Kurtosis:</th>      <td> 6.321</td> <th>  Cond. No.          </th> <td>    7.44</td>\n",
       "</tr>\n",
       "</table><br/><br/>Warnings:<br/>[1] Standard Errors assume that the covariance matrix of the errors is correctly specified."
      ],
      "text/plain": [
       "<class 'statsmodels.iolib.summary.Summary'>\n",
       "\"\"\"\n",
       "                            OLS Regression Results                            \n",
       "==============================================================================\n",
       "Dep. Variable:                      Y   R-squared:                       0.089\n",
       "Model:                            OLS   Adj. R-squared:                  0.086\n",
       "Method:                 Least Squares   F-statistic:                     25.82\n",
       "Date:                Fri, 10 Sep 2021   Prob (F-statistic):           7.09e-07\n",
       "Time:                        06:23:35   Log-Likelihood:                -683.77\n",
       "No. Observations:                 266   AIC:                             1372.\n",
       "Df Residuals:                     264   BIC:                             1379.\n",
       "Df Model:                           1                                         \n",
       "Covariance Type:            nonrobust                                         \n",
       "==============================================================================\n",
       "                 coef    std err          t      P>|t|      [0.025      0.975]\n",
       "------------------------------------------------------------------------------\n",
       "Intercept     13.3498      0.429     31.104      0.000      12.505      14.195\n",
       "X             -0.7006      0.138     -5.082      0.000      -0.972      -0.429\n",
       "==============================================================================\n",
       "Omnibus:                       64.566   Durbin-Watson:                   1.717\n",
       "Prob(Omnibus):                  0.000   Jarque-Bera (JB):              174.620\n",
       "Skew:                          -1.087   Prob(JB):                     1.21e-38\n",
       "Kurtosis:                       6.321   Cond. No.                         7.44\n",
       "==============================================================================\n",
       "\n",
       "Warnings:\n",
       "[1] Standard Errors assume that the covariance matrix of the errors is correctly specified.\n",
       "\"\"\""
      ]
     },
     "execution_count": 17,
     "metadata": {},
     "output_type": "execute_result"
    }
   ],
   "source": [
    "X=dfM[\"Walc\"].values \n",
    "Y=dfM['G3'].values \n",
    "import statsmodels.api as sm \n",
    "\n",
    "model=sm.OLS.from_formula(\"Y~X\", \n",
    "                         data=dfM)\n",
    "result=model.fit() \n",
    "result.summary() "
   ]
  },
  {
   "cell_type": "code",
   "execution_count": 18,
   "id": "04cef6f0",
   "metadata": {},
   "outputs": [
    {
     "data": {
      "text/html": [
       "<div>\n",
       "<style scoped>\n",
       "    .dataframe tbody tr th:only-of-type {\n",
       "        vertical-align: middle;\n",
       "    }\n",
       "\n",
       "    .dataframe tbody tr th {\n",
       "        vertical-align: top;\n",
       "    }\n",
       "\n",
       "    .dataframe thead th {\n",
       "        text-align: right;\n",
       "    }\n",
       "</style>\n",
       "<table border=\"1\" class=\"dataframe\">\n",
       "  <thead>\n",
       "    <tr style=\"text-align: right;\">\n",
       "      <th></th>\n",
       "      <th>G3</th>\n",
       "    </tr>\n",
       "    <tr>\n",
       "      <th>goout</th>\n",
       "      <th></th>\n",
       "    </tr>\n",
       "  </thead>\n",
       "  <tbody>\n",
       "    <tr>\n",
       "      <th>1</th>\n",
       "      <td>10.729167</td>\n",
       "    </tr>\n",
       "    <tr>\n",
       "      <th>2</th>\n",
       "      <td>12.668966</td>\n",
       "    </tr>\n",
       "    <tr>\n",
       "      <th>3</th>\n",
       "      <td>12.151220</td>\n",
       "    </tr>\n",
       "    <tr>\n",
       "      <th>4</th>\n",
       "      <td>11.971631</td>\n",
       "    </tr>\n",
       "    <tr>\n",
       "      <th>5</th>\n",
       "      <td>10.872727</td>\n",
       "    </tr>\n",
       "  </tbody>\n",
       "</table>\n",
       "</div>"
      ],
      "text/plain": [
       "              G3\n",
       "goout           \n",
       "1      10.729167\n",
       "2      12.668966\n",
       "3      12.151220\n",
       "4      11.971631\n",
       "5      10.872727"
      ]
     },
     "execution_count": 18,
     "metadata": {},
     "output_type": "execute_result"
    }
   ],
   "source": [
    "pd.pivot_table(df,\n",
    "              index=['goout'],\n",
    "              values=['G3'],\n",
    "              aggfunc='mean')"
   ]
  },
  {
   "cell_type": "code",
   "execution_count": 19,
   "id": "ec743ee1",
   "metadata": {},
   "outputs": [
    {
     "data": {
      "text/plain": [
       "<seaborn.axisgrid.FacetGrid at 0x7f00e0af4d10>"
      ]
     },
     "execution_count": 19,
     "metadata": {},
     "output_type": "execute_result"
    },
    {
     "data": {
      "image/png": "[encoded data removed]",
      "text/plain": [
       "<Figure size 360x360 with 1 Axes>"
      ]
     },
     "metadata": {
      "needs_background": "light"
     },
     "output_type": "display_data"
    }
   ],
   "source": [
    "sns.catplot(data=df,\n",
    "           x='goout',\n",
    "           y='G3',\n",
    "           )"
   ]
  },
  {
   "cell_type": "markdown",
   "id": "5942e0ab",
   "metadata": {},
   "source": [
    "## Conclusiones"
   ]
  },
  {
   "cell_type": "markdown",
   "id": "6924fc0d",
   "metadata": {},
   "source": [
    " -  ¿Como se comparan social y academicamente los hombres y mujeres?\n",
    " Las mujeres se destacan mas academicamente, y tienden a salir menos, faltar menos al colegio y consumir menos alcohol.\n",
    " \n",
    " -  ¿En que aspectos se deberian concentrar los colegios para ayudar a sus estudiantes con el desempeño académico?\n",
    " Analizando la tabla, se ve que las horas de estudio ideales son 3 para los estudiantes con mejores calificaciones. La actividad social no parece tener tanta correlacion con las calificaciones, al contrario, al parecer los alumnos que no salen mucho con amigos estan sufriendo con sus calificaciones. El consumo de alcohol en los hombres parece si tener un efecto.  Este parece ser un area en la que los departamentos psicologicos de los colegios se pueden concentrar. \n"
   ]
  },
  {
   "cell_type": "code",
   "execution_count": null,
   "id": "21408e0b",
   "metadata": {},
   "outputs": [],
   "source": []
  }
 ],
 "metadata": {
  "kernelspec": {
   "display_name": "Python 3",
   "language": "python",
   "name": "python3"
  },
  "language_info": {
   "codemirror_mode": {
    "name": "ipython",
    "version": 3
   },
   "file_extension": ".py",
   "mimetype": "text/x-python",
   "name": "python",
   "nbconvert_exporter": "python",
   "pygments_lexer": "ipython3",
   "version": "3.7.10"
  }
 },
 "nbformat": 4,
 "nbformat_minor": 5
}
