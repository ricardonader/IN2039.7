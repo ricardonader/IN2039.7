{
 "cells": [
  {
   "cell_type": "markdown",
   "id": "b06f4fe0",
   "metadata": {},
   "source": [
    "# Evaluación Final\n",
    "## Visualización de datos para la toma de decisiones\n",
    "\n",
    "### Ricardo Nader Estrada\n",
    "### A00827708"
   ]
  },
  {
   "cell_type": "markdown",
   "id": "85eb30ce",
   "metadata": {},
   "source": [
    "### Introducción\n",
    "\n",
    "El set de datos que se utilizó en esta exploración fue recopilado del UCI Machine Learning Repository (https://archive.ics.uci.edu/ml/index.php). \n",
    "Este set contiene información acerca de el desempeño escolar de estudiantes de dos colegios de Portugal, así como de información acerca de la vida personal de los estudiantes. Contiene atributos variados desde la vida familiar hasta vida social. \n",
    "En esta investigación se planea analizar las variables y encontrar las correlaciones que tienen con las notas finales de los estudiantes, asi como comparar el impacto que tienen."
   ]
  },
  {
   "cell_type": "markdown",
   "id": "d414994b",
   "metadata": {},
   "source": [
    "### Estudio de las variables\n",
    "El set contiene muchas variables que se podrían considerar como \"importantes\" al estudiar las razones para un bajo rendimiento academico. Sin embargo, para este estudio se han seleccionado algunas que se consideró como más interesantes para explorar. Estas son las siguientes:"
   ]
  },
  {
   "cell_type": "markdown",
   "id": "dd23ccd0",
   "metadata": {},
   "source": [
    "'sex' = student's sex (binary: \"F\" - female or \"M\" - male). \n",
    "Además de encontrar la relación que tiene el sexo de los estudiantes con su desempeño, se pretende evaluar el nivel de afectación que esta variable tiene en relación con las otras. Es decir, encontrar si es que el sexo tiene algo que ver con cómo manejan los estudiantes las diferentes situaciones familiares, personales, etc."
   ]
  },
  {
   "cell_type": "markdown",
   "id": "4e892869",
   "metadata": {},
   "source": [
    "'famsize' - family size (binary: \"LE3\" - less or equal to 3 or \"GT3\" - greater than 3). Tamaño de la familia.\n",
    "\n",
    "Pstatus - parent's cohabitation status (binary: \"T\" - living together or \"A\" - apart). Padres juntos o separados. Se puede encontrar correlacion con las calificaciones y con la vida social.\n",
    "\n",
    "studytime - weekly study time (numeric: 1 - <2 hours, 2 - 2 to 5 hours, 3 - 5 to 10 hours, or 4 - >10 hours)\n",
    "\n",
    "goout - going out with friends (numeric: from 1 - very low to 5 - very high)\n",
    "\n",
    "Walc - weekend alcohol consumption (numeric: from 1 - very low to 5 - very high)\n",
    "\n",
    "absences - number of school absences (numeric: from 0 to 93)\n",
    "\n",
    "G3 - final grade (numeric: from 0 to 20, output target)"
   ]
  },
  {
   "cell_type": "markdown",
   "id": "679dc6fa",
   "metadata": {},
   "source": [
    "### Preguntas de Exploración\n",
    "\n",
    " -  ¿Que factores afectan más las calificaciones de los estudiantes?\n",
    " -  ¿Existe correlación entre la actividad sociala de los estudiantes y el consumo de alcohol con las calificaciones?\n",
    " -  ¿En que aspectos se deberian concentrar los colegios para ayudar a sus estudiantes con el desempeño académico?"
   ]
  },
  {
   "cell_type": "markdown",
   "id": "11acc867",
   "metadata": {},
   "source": [
    "### Stakeholders\n",
    "\n",
    "Principalmente, esta información es de alta relevancia para el departamento directivo y pedagógico de los colegios. Podría ayudar en la toma de decisiones y en el apoyo que brinden a los estudiantes para mejorar el desempeño academico. También puede ser de relevancia para los padres que esten interesados en ayudar a sus hijos. Finalmente, departamentos psicológicos pueden utilizar esta información para el estudio a fondo de las razones de estas correlaciones."
   ]
  },
  {
   "cell_type": "markdown",
   "id": "5e68dce5",
   "metadata": {},
   "source": [
    "### Exploración"
   ]
  },
  {
   "cell_type": "code",
   "execution_count": 1,
   "id": "1cabef1f",
   "metadata": {},
   "outputs": [],
   "source": [
    "import pandas as pd\n",
    "import seaborn as sns\n",
    "import matplotlib.pyplot as plt"
   ]
  },
  {
   "cell_type": "code",
   "execution_count": null,
   "id": "1b5cbbfd",
   "metadata": {},
   "outputs": [],
   "source": [
    "df = pd.read_excel('')"
   ]
  }
 ],
 "metadata": {
  "kernelspec": {
   "display_name": "Python 3",
   "language": "python",
   "name": "python3"
  },
  "language_info": {
   "codemirror_mode": {
    "name": "ipython",
    "version": 3
   },
   "file_extension": ".py",
   "mimetype": "text/x-python",
   "name": "python",
   "nbconvert_exporter": "python",
   "pygments_lexer": "ipython3",
   "version": "3.7.10"
  }
 },
 "nbformat": 4,
 "nbformat_minor": 5
}
